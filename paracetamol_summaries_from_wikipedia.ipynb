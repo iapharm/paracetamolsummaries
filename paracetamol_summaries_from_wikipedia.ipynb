{
  "nbformat": 4,
  "nbformat_minor": 0,
  "metadata": {
    "colab": {
      "provenance": [],
      "toc_visible": true
    },
    "kernelspec": {
      "name": "python3",
      "display_name": "Python 3"
    },
    "language_info": {
      "name": "python"
    }
  },
  "cells": [
    {
      "cell_type": "code",
      "source": [
        "# First, I install the wikipedia and langdetect modules"
      ],
      "metadata": {
        "id": "i3-oS0C3QPdI"
      },
      "execution_count": 42,
      "outputs": []
    },
    {
      "cell_type": "code",
      "source": [
        "pip install wikipedia"
      ],
      "metadata": {
        "colab": {
          "base_uri": "https://localhost:8080/"
        },
        "id": "NohMZ_05s7JW",
        "outputId": "3047f1b7-c2b4-47c4-90f9-00cef333a74e"
      },
      "execution_count": 43,
      "outputs": [
        {
          "output_type": "stream",
          "name": "stdout",
          "text": [
            "Looking in indexes: https://pypi.org/simple, https://us-python.pkg.dev/colab-wheels/public/simple/\n",
            "Requirement already satisfied: wikipedia in /usr/local/lib/python3.10/dist-packages (1.4.0)\n",
            "Requirement already satisfied: beautifulsoup4 in /usr/local/lib/python3.10/dist-packages (from wikipedia) (4.11.2)\n",
            "Requirement already satisfied: requests<3.0.0,>=2.0.0 in /usr/local/lib/python3.10/dist-packages (from wikipedia) (2.27.1)\n",
            "Requirement already satisfied: urllib3<1.27,>=1.21.1 in /usr/local/lib/python3.10/dist-packages (from requests<3.0.0,>=2.0.0->wikipedia) (1.26.15)\n",
            "Requirement already satisfied: certifi>=2017.4.17 in /usr/local/lib/python3.10/dist-packages (from requests<3.0.0,>=2.0.0->wikipedia) (2022.12.7)\n",
            "Requirement already satisfied: charset-normalizer~=2.0.0 in /usr/local/lib/python3.10/dist-packages (from requests<3.0.0,>=2.0.0->wikipedia) (2.0.12)\n",
            "Requirement already satisfied: idna<4,>=2.5 in /usr/local/lib/python3.10/dist-packages (from requests<3.0.0,>=2.0.0->wikipedia) (3.4)\n",
            "Requirement already satisfied: soupsieve>1.2 in /usr/local/lib/python3.10/dist-packages (from beautifulsoup4->wikipedia) (2.4.1)\n"
          ]
        }
      ]
    },
    {
      "cell_type": "code",
      "source": [
        "pip install langdetect "
      ],
      "metadata": {
        "colab": {
          "base_uri": "https://localhost:8080/"
        },
        "id": "gszgimtph4jV",
        "outputId": "38a08e3e-c920-4e53-eb92-8e7abf5941f6"
      },
      "execution_count": 44,
      "outputs": [
        {
          "output_type": "stream",
          "name": "stdout",
          "text": [
            "Looking in indexes: https://pypi.org/simple, https://us-python.pkg.dev/colab-wheels/public/simple/\n",
            "Requirement already satisfied: langdetect in /usr/local/lib/python3.10/dist-packages (1.0.9)\n",
            "Requirement already satisfied: six in /usr/local/lib/python3.10/dist-packages (from langdetect) (1.16.0)\n"
          ]
        }
      ]
    },
    {
      "cell_type": "code",
      "source": [
        "# Now I import Python libraries and also download \"stopwords\" and \"punkt\""
      ],
      "metadata": {
        "id": "09aegupruJN8"
      },
      "execution_count": 45,
      "outputs": []
    },
    {
      "cell_type": "code",
      "source": [
        "import bs4 as bs\n",
        "from bs4 import BeautifulSoup\n",
        "\n",
        "import urllib.request as urllib2\n",
        "from urllib.request import urlopen\n",
        "import re\n",
        "import nltk\n",
        "import wikipedia\n",
        "\n",
        "nltk.download('stopwords')\n",
        "nltk.download('punkt')"
      ],
      "metadata": {
        "colab": {
          "base_uri": "https://localhost:8080/"
        },
        "id": "iM5FdM8vLcdg",
        "outputId": "f6b2f2cf-009a-453c-8ec7-89c2038e7128"
      },
      "execution_count": 46,
      "outputs": [
        {
          "output_type": "stream",
          "name": "stderr",
          "text": [
            "[nltk_data] Downloading package stopwords to /root/nltk_data...\n",
            "[nltk_data]   Package stopwords is already up-to-date!\n",
            "[nltk_data] Downloading package punkt to /root/nltk_data...\n",
            "[nltk_data]   Package punkt is already up-to-date!\n"
          ]
        },
        {
          "output_type": "execute_result",
          "data": {
            "text/plain": [
              "True"
            ]
          },
          "metadata": {},
          "execution_count": 46
        }
      ]
    },
    {
      "cell_type": "code",
      "source": [
        "# Let's start the search for differences in the results in English, French, Spanish and Catalan. In order to achieve the goal, we will use a dictionary.\n",
        "# For reasons of space, we will only make the comparisons in French and Catalan."
      ],
      "metadata": {
        "id": "wF2Zqp8HvwmZ"
      },
      "execution_count": 47,
      "outputs": []
    },
    {
      "cell_type": "code",
      "source": [
        "languages = [(\"en\", \"English\"), (\"fr\", \"French\"), (\"es\", \"Español\"), (\"ca\", \"Català\")]\n",
        "medicamentos = [\"Paracetamol\", \"Ibuprofen\"]\n",
        "busquedas = dict()\n",
        "\n",
        "for medicamento in medicamentos:\n",
        "    busquedas[medicamento] = dict()\n",
        "    for language in languages:\n",
        "        wikipedia.set_lang(language[0])\n",
        "     \n",
        "        print(medicamento, language)\n",
        "        busquedas[medicamento][language[1]] = dict()\n",
        "        busquedas[medicamento][language[1]][\"Query\"] = wikipedia.search(medicamento)\n",
        "        busquedas[medicamento][language[1]][\"Search parameters\"] = wikipedia.search(medicamento, results = 5, suggestion = True)\n",
        "        busquedas[medicamento][language[1]][\"Summary\"] = wikipedia.summary(medicamento)\n"
      ],
      "metadata": {
        "colab": {
          "base_uri": "https://localhost:8080/"
        },
        "id": "3d2sxIHKkUF6",
        "outputId": "cbaf6136-2005-4183-9d73-bd88c2b1f328"
      },
      "execution_count": 48,
      "outputs": [
        {
          "output_type": "stream",
          "name": "stdout",
          "text": [
            "Paracetamol ('en', 'English')\n",
            "Paracetamol ('fr', 'French')\n",
            "Paracetamol ('es', 'Español')\n",
            "Paracetamol ('ca', 'Català')\n",
            "Ibuprofen ('en', 'English')\n",
            "Ibuprofen ('fr', 'French')\n",
            "Ibuprofen ('es', 'Español')\n",
            "Ibuprofen ('ca', 'Català')\n"
          ]
        }
      ]
    },
    {
      "cell_type": "code",
      "source": [
        "busquedas[\"Paracetamol\"][\"French\"][\"Query\"]"
      ],
      "metadata": {
        "colab": {
          "base_uri": "https://localhost:8080/"
        },
        "id": "RZbYgBTOm9ts",
        "outputId": "527d7805-22e4-48c7-b7db-2365a643d30e"
      },
      "execution_count": 49,
      "outputs": [
        {
          "output_type": "execute_result",
          "data": {
            "text/plain": [
              "['Paracétamol',\n",
              " 'Ibuprofène',\n",
              " 'Vicodin',\n",
              " 'Antipyrétique',\n",
              " 'Lamaline (médicament)',\n",
              " 'Méthode PICO',\n",
              " 'Antalgique',\n",
              " 'Dextropropoxyphène',\n",
              " 'Codéine',\n",
              " 'Noms commerciaux du paracétamol']"
            ]
          },
          "metadata": {},
          "execution_count": 49
        }
      ]
    },
    {
      "cell_type": "code",
      "source": [
        "busquedas[\"Paracetamol\"][\"French\"][\"Search parameters\"]"
      ],
      "metadata": {
        "colab": {
          "base_uri": "https://localhost:8080/"
        },
        "id": "wS63-W9BvR4v",
        "outputId": "9bcdeaeb-7ef9-4fa5-84d2-9e34aef03d92"
      },
      "execution_count": 50,
      "outputs": [
        {
          "output_type": "execute_result",
          "data": {
            "text/plain": [
              "(['Paracétamol',\n",
              "  'Vicodin',\n",
              "  'Ibuprofène',\n",
              "  'Noms commerciaux du paracétamol',\n",
              "  'Antipyrétique'],\n",
              " None)"
            ]
          },
          "metadata": {},
          "execution_count": 50
        }
      ]
    },
    {
      "cell_type": "code",
      "source": [
        "busquedas[\"Paracetamol\"][\"Català\"][\"Query\"]"
      ],
      "metadata": {
        "id": "tbkGTAdenhbL",
        "colab": {
          "base_uri": "https://localhost:8080/"
        },
        "outputId": "be7874bc-09e2-4526-a0d4-a328466d7933"
      },
      "execution_count": 51,
      "outputs": [
        {
          "output_type": "execute_result",
          "data": {
            "text/plain": [
              "['Paracetamol',\n",
              " 'Tramadol/paracetamol',\n",
              " 'Antipirètic',\n",
              " 'Acetilcisteïna',\n",
              " \"Escala d'analgèsia de l'OMS\",\n",
              " 'Empatia',\n",
              " 'Cerebrino Mandri',\n",
              " 'Nefropatia pels analgèsics',\n",
              " 'Síndrome de Gilbert',\n",
              " 'Ressaca']"
            ]
          },
          "metadata": {},
          "execution_count": 51
        }
      ]
    },
    {
      "cell_type": "code",
      "source": [
        "busquedas[\"Paracetamol\"][\"Català\"][\"Search parameters\"]"
      ],
      "metadata": {
        "colab": {
          "base_uri": "https://localhost:8080/"
        },
        "id": "_U5kHCb1vaO9",
        "outputId": "585e8cea-5e32-45a9-a4e6-2d9ac138a4fe"
      },
      "execution_count": 52,
      "outputs": [
        {
          "output_type": "execute_result",
          "data": {
            "text/plain": [
              "(['Paracetamol',\n",
              "  'Tramadol/paracetamol',\n",
              "  'Antipirètic',\n",
              "  'Acetilcisteïna',\n",
              "  \"Escala d'analgèsia de l'OMS\"],\n",
              " None)"
            ]
          },
          "metadata": {},
          "execution_count": 52
        }
      ]
    },
    {
      "cell_type": "code",
      "source": [
        "# Another possibility is to use the following formula for each language."
      ],
      "metadata": {
        "id": "_F9I6qcDyo9A"
      },
      "execution_count": 53,
      "outputs": []
    },
    {
      "cell_type": "code",
      "source": [
        "wikipedia.set_lang(\"en\")\n",
        "print (\"Search result of a query (English):\", wikipedia.search(\"Paracetamol\"))\n",
        "print (\"Search results by using search parameters (English):\", wikipedia.search(\"Paracetamol\", results = 5, suggestion = True))\n",
        "print (\"Summary (English):\", wikipedia.summary(\"Paracetamol\"))"
      ],
      "metadata": {
        "colab": {
          "base_uri": "https://localhost:8080/"
        },
        "id": "ABcA139rTLnN",
        "outputId": "0c59ed5d-0f66-498d-83f5-256645f5afc9"
      },
      "execution_count": 54,
      "outputs": [
        {
          "output_type": "stream",
          "name": "stdout",
          "text": [
            "Search result of a query (English): ['Paracetamol', 'Hydrocodone/paracetamol', 'Paracetamol poisoning', 'Codeine/paracetamol', 'Oxycodone/paracetamol', 'List of paracetamol brand names', 'Tramadol/paracetamol', 'Aspirin/paracetamol/caffeine', 'Propyphenazone/paracetamol/caffeine', 'Ibuprofen/paracetamol']\n",
            "Search results by using search parameters (English): (['Paracetamol', 'Hydrocodone/paracetamol', 'Paracetamol poisoning', 'Codeine/paracetamol', 'Oxycodone/paracetamol'], None)\n",
            "Summary (English): Paracetamol (acetaminophen or para-hydroxyacetanilide) is a medication used to treat fever and mild to moderate pain. Common brand names include Tylenol and Panadol.\n",
            "At a standard dose, paracetamol only slightly decreases body temperature; it is inferior to ibuprofen in that respect, and the benefits of its use for fever are unclear. Paracetamol may relieve pain in acute mild migraine but only slightly in episodic tension headache. However, the aspirin/paracetamol/caffeine combination helps with both conditions where the pain is mild and is recommended as a first-line treatment for them. Paracetamol is effective for post-surgical pain, but it is inferior to ibuprofen. The paracetamol/ibuprofen combination provides further increase in potency and is superior to either drug alone. The pain relief paracetamol provides in osteoarthritis is small and clinically insignificant. The evidence in its favor for the use in low back pain, cancer pain, and neuropathic pain is insufficient.In the short term, paracetamol is safe and effective when used as directed. Short term adverse effects are uncommon and similar to ibuprofen, but paracetamol is typically safer than non-steroidal anti-inflammatory drugs (NSAID) for long term use. Paracetamol is also often used in patients who cannot tolerate NSAIDs like ibuprofen. Chronic consumption of paracetamol may result in a drop in hemoglobin level, indicating possible gastrointestinal bleeding, and abnormal liver function tests. Some epidemiological studies have linked paracetamol to cardiovascular, renal, and gastrointestinal diseases, but are largely due to confounding biases and of insignificant relevance with short-term use of paracetamol. Paracetamol may slightly increase systolic blood pressure in hypertensive patients at a dose of 4 grams a day. Elevated frequency of asthma and developmental and reproductive disorders is observed in the offspring of women with prolonged use of paracetamol during pregnancy, although whether paracetamol is the true cause of this increase is unclear. Some studies suggest that there is evidence for the association between paracetamol during pregnancy and autism spectrum disorder and attention deficit hyperactivity disorder, while making clear further research is required to establish any causal link, which has prompted some calls to limit its use in pregnancy to the lowest effective dosage for the shortest possible time.The recommended maximum daily dose for an adult is three to four grams. Higher doses may lead to toxicity, including liver failure. Paracetamol poisoning is the foremost cause of acute liver failure in the Western world, and accounts for most drug overdoses in the United States, the United Kingdom, Australia, and New Zealand.Paracetamol was first made in 1877 or possibly 1852. It is the most commonly used medication for pain and fever in both the United States and Europe. It is on the World Health Organization's List of Essential Medicines. Paracetamol is available as a generic medication, with brand names including Tylenol and Panadol among others. In 2020, it was the 118th most commonly prescribed medication in the United States, with more than 5 million prescriptions.\n",
            "\n",
            "\n"
          ]
        }
      ]
    },
    {
      "cell_type": "code",
      "source": [
        "wikipedia.set_lang(\"fr\")\n",
        "print (\"Search result of a query (French):\", wikipedia.search(\"Paracetamol\"))\n",
        "print (\"Search results by using search parameters (French):\", wikipedia.search(\"Paracetamol\", results = 5, suggestion = True))\n",
        "print (\"Summary (French):\",wikipedia.summary(\"Paracetamol\"))"
      ],
      "metadata": {
        "colab": {
          "base_uri": "https://localhost:8080/"
        },
        "id": "Ez3cTH-JUNEu",
        "outputId": "ab6285a2-36ce-451c-adb9-cac4f35b32f9"
      },
      "execution_count": 55,
      "outputs": [
        {
          "output_type": "stream",
          "name": "stdout",
          "text": [
            "Search result of a query (French): ['Paracétamol', 'Vicodin', 'Ibuprofène', 'Noms commerciaux du paracétamol', 'Antipyrétique', 'Lamaline (médicament)', 'Méthode PICO', 'Antalgique', 'Codéine', 'Dextropropoxyphène']\n",
            "Search results by using search parameters (French): (['Paracétamol', 'Ibuprofène', 'Vicodin', 'Noms commerciaux du paracétamol', 'Antipyrétique'], None)\n",
            "Summary (French): Le paracétamol, aussi appelé acétaminophène, est un composé chimique utilisé comme antalgique (anti-douleur) et antipyrétique (anti-fièvre), qui figure parmi les médicaments les plus communs, utilisés et prescrits au monde.\n",
            "Il est indiqué dans le traitement des douleurs  d'intensité faible à modérée, seul ou en association avec d'autres analgésiques opioïdes. Il est très populaire car il a moins de contre-indications que les autres antalgiques et jouit d'une bonne image auprès du public.\n",
            "Son mécanisme est très complexe ; en effet, il diminue la fièvre, mais pas par le même mécanisme que l'aspirine ou l'ibuprofène, qui agissent sur l'inflammation,.\n",
            "Le paracétamol est le médicament le plus prescrit en France, et même la base des trois médicaments les plus prescrits (noms commerciaux : Doliprane, Dafalgan, Efferalgan), qui totalisent plus de 500 millions de boîtes en 2013.\n",
            "Toutefois, au-delà de 6 g/j, et en cas d'usage au long cours, le paracétamol présente une sévère toxicité pour le foie par production d'un métabolite hépatotoxique, la N-acétyl-p-benzoquinone imine (NAPQI). En cas de surdose ou d'interactions médicamenteuses, le paracétamol est très toxique pour le foie et peut entraîner la mort par hépatite fulminante. C'est pourquoi il est fortement contre-indiqué chez les personnes souffrant d'insuffisance hépatique.\n",
            "La N-acétylcystéïne est un précurseur du glutathion qui diminue la toxicité du paracétamol en inactivant le métabolite toxique du paracétamol NAPQI (N-acétyle-p-benzoquinone imine).\n",
            "Cet antidote est plus efficace s'il est administré dans les huit heures qui suivent l'ingestion de paracétamol. Après 24 heures, le bénéfice de l'antidote est discutable, mais il doit cependant être administré. \n",
            "Si le degré de toxicité est incertain, de la N-acétylcystéïne doit être administrée jusqu'à ce qu'une intoxication soit exclue.\n",
            "Une dose de charge de 150 mg/kg en 200 mL de glucosé à 5 % administrée en 15 min est suivie par des doses d'entretien de 50 mg/kg dans 500 mL de glucosé à 5 % administrés en quatre heures, puis 100 mg/kg dans 1 000 mL de glucosé à 5 % administrés en seize heures. Chez l'enfant, il faut parfois ajuster le dosage pour diminuer le volume total de liquide qui est administré ; une consultation dans un centre antipoison est recommandée.\n",
            "Le nom « paracétamol » vient de la contraction de para-acétyl-amino-phénol. Acétaminophène quant à lui provient de N-acétyl-para-aminophénol. Il est appelé acétaminophène au Canada, aux États-Unis, au Mexique, en Colombie, au Japon, en Corée du Sud, à Hong Kong et en Iran. Dans les autres pays, on emploie le nom « paracétamol ».\n"
          ]
        }
      ]
    },
    {
      "cell_type": "code",
      "source": [
        "wikipedia.set_lang(\"de\")\n",
        "print (\"Search result of a query (German):\",wikipedia.search(\"Paracetamol\"))\n",
        "print (\"Search results by using search parameters (German):\", wikipedia.search(\"Paracetamol\", results = 5, suggestion = True))\n",
        "print (\"Summary (German):\",wikipedia.summary(\"Paracetamol\"))"
      ],
      "metadata": {
        "colab": {
          "base_uri": "https://localhost:8080/"
        },
        "id": "45hFMgN3UTp5",
        "outputId": "84271425-a183-483f-d0a1-04fe18e35092"
      },
      "execution_count": 56,
      "outputs": [
        {
          "output_type": "stream",
          "name": "stdout",
          "text": [
            "Search result of a query (German): ['Paracetamol', 'Codein', 'Ibuprofen', 'Fieber', 'Nichtopioid-Analgetikum', 'Acetylcystein', 'Acetylsalicylsäure', 'Tizanidin', 'Leberversagen', 'Acetanilid']\n",
            "Search results by using search parameters (German): (['Paracetamol', 'Codein', 'Fieber', 'Ibuprofen', 'Nichtopioid-Analgetikum'], None)\n",
            "Summary (German): Paracetamol (Kontraktion von para-(Acetylamino)phenol, auch Acetaminophen von para-(Acetylamino)phenol) ist ein schmerzlindernder und fiebersenkender Arzneistoff aus der Gruppe der Nichtopioid-Analgetika. In Nordamerika und im Iran ist die übliche Bezeichnung der Substanz Acetaminophen. \n",
            "Die Substanz ist sowohl ein Derivat der Essigsäure als auch des Aminophenols p-Hydroxyanilin und wurde erstmals 1878 von Harmon Northrop Morse aus p-Nitrophenol in Eisessig hergestellt. Doch erst nach Einführung von Fertigarzneimitteln mit diesem Wirkstoff in den 1950er Jahren wird Paracetamol im Rahmen der Selbstmedikation als Monopräparat oder Bestandteil verschiedener Kombinationspräparate zur symptomatischen Behandlung von Erkältungsbeschwerden und Schmerzen verbreitet eingesetzt. Präparate mit Paracetamol zählen weltweit zu den gebräuchlichsten Schmerzmitteln neben jenen, die Acetylsalicylsäure, Ibuprofen, oder Diclofenac enthalten, Paracetamol wirkt aber im Gegensatz zu diesen quasi nicht entzündungshemmend. Seit 1977 steht Paracetamol auf der Liste der unentbehrlichen Arzneimittel der WHO.\n"
          ]
        }
      ]
    },
    {
      "cell_type": "code",
      "source": [
        "wikipedia.set_lang(\"es\")\n",
        "print (\"Search result of a query (Spanish):\",wikipedia.search(\"Paracetamol\"))\n",
        "print (\"Search results by using search parameters (Spanisch):\", wikipedia.search(\"Paracetamol\", results = 5, suggestion = True))\n",
        "print (\"Summary (Spanisch):\",wikipedia.summary(\"Paracetamol\"))"
      ],
      "metadata": {
        "colab": {
          "base_uri": "https://localhost:8080/"
        },
        "id": "fov10pgfUf9-",
        "outputId": "fd8f4121-3b72-426e-8c75-7c91838f4f12"
      },
      "execution_count": 57,
      "outputs": [
        {
          "output_type": "stream",
          "name": "stdout",
          "text": [
            "Search result of a query (Spanish): ['Paracetamol', 'Intoxicación por paracetamol', 'Tramadol/paracetamol', 'Antipirético', 'Acetilcisteína', 'Sulfoconjugación', 'Analgésico', 'Hidrocodona', 'Vicodin', 'NAPQI']\n",
            "Search results by using search parameters (Spanisch): (['Paracetamol', 'Intoxicación por paracetamol', 'Tramadol/paracetamol', 'Antipirético', 'Acetilcisteína'], None)\n",
            "Summary (Spanisch): El paracetamol (DCI), también conocido como acetaminofén o acetaminofeno o p-Acetilaminofenol, es un fármaco con propiedades analgésicas y antipiréticas utilizado principalmente para tratar la fiebre y el dolor leve y moderado,[1]​[2]​ aunque su eficacia en el alivio de la fiebre en niños no está clara.[3]​[4]​\n",
            "A menudo se comercializa en medicamentos en los cuales se combina con otros principios activos, como en los antitusígenos,[1]​ o en medicamentos para el alivio del dolor con opiáceos, donde el paracetamol se utiliza para el alivio del dolor muy grave, como el dolor oncológico o tras una operación.[5]​ Por lo general se administra por vía oral aunque también está disponible para su uso por vía rectal o intravenosa,[1]​ por lo que puede presentarse en forma de cápsulas, comprimidos, supositorios o gotas. Sus efectos duran entre dos y cuatro horas.[6]​\n",
            "El paracetamol es normalmente seguro, siempre que se respeten las dosis recomendadas,[7]​ además puede continuar utilizándose en aquellos pacientes con enfermedades hepáticas a dosis bajas[8]​ y es seguro durante el embarazo y la lactancia materna.[1]​ Sin embargo, a dosis elevadas puede provocar insuficiencia hepática,[1]​ alterar la función plaquetaria,[9]​ producir reacciones cutáneas graves o shock anafiláctico (aunque solo en raras ocasiones) y una sobredosis del medicamento puede llegar a acabar con la vida del paciente.[10]​ El paracetamol está clasificado como un analgésico leve[6]​ y no tiene una actividad antiinflamatoria significativa, aunque no se conoce todavía a ciencia cierta como actúa en este ámbito.[11]​\n",
            "El paracetamol fue descubierto en Alemania en 1877[12]​ y es el medicamento más utilizado para el alivio del dolor y la fiebre en Europa y los Estados Unidos.[13]​ Está en el listado de medicamentos esenciales que elabora la Organización Mundial de la Salud, donde se listan todos los fármacos básicos necesarios en cualquier sistema de salud.[14]​ El paracetamol está disponible como medicamento genérico y bajo numerosas marcas comerciales.[15]​ El precio al por mayor en los países en vías de desarrollo es inferior a un centavo de dólar (USD) la dosis,[16]​ mientras que en los países desarrollados su precio es sensiblemente mayor, por ejemplo en Estados Unidos su precio ronda los cuatro centavos por dosis.[17]​\n"
          ]
        }
      ]
    },
    {
      "cell_type": "code",
      "source": [
        "wikipedia.set_lang(\"ca\")\n",
        "print (\"Search result of a query (Catalan):\",wikipedia.search(\"Paracetamol\"))\n",
        "print (\"Search results by using search parameters (Catalan):\", wikipedia.search(\"Paracetamol\", results = 5, suggestion = True))\n",
        "print (\"Summary (Catalan):\",wikipedia.summary(\"Paracetamol\"))"
      ],
      "metadata": {
        "colab": {
          "base_uri": "https://localhost:8080/"
        },
        "id": "sARRVOdLUkLc",
        "outputId": "869926bf-e8cd-4f79-96fe-d52f09a87b6c"
      },
      "execution_count": 58,
      "outputs": [
        {
          "output_type": "stream",
          "name": "stdout",
          "text": [
            "Search result of a query (Catalan): ['Paracetamol', 'Tramadol/paracetamol', 'Antipirètic', 'Acetilcisteïna', \"Escala d'analgèsia de l'OMS\", 'Cerebrino Mandri', 'Empatia', 'Nefropatia pels analgèsics', 'Síndrome de Gilbert', 'Grup acetil']\n",
            "Search results by using search parameters (Catalan): (['Paracetamol', 'Tramadol/paracetamol', 'Antipirètic', 'Acetilcisteïna', \"Escala d'analgèsia de l'OMS\"], None)\n",
            "Summary (Catalan): El paracetamol, o acetaminofè és un fàrmac molt utilitzat que té propietats analgèsiques i antipirètiques semblants a les de l'aspirina, però no té activitat antiinflamatòria, ni exerceix cap efecte antiplaquetari. Per tant, la gent al·lèrgica als AINE podrà prendre paracetamol, ja que no té efecte antiinflamatori.El paracetamol pertany a la família dels paraaminofenols. Molts autors inclouen aquest fàrmac com a AINE perquè el seu mecanisme d'acció i els efectes analgèsics i antipirètics són molt semblants a aquests, però normalment no s'inclou en aquest grup, perquè no té gaire efecte antiinflamatori.A diferència dels fàrmacs opioides, el paracetamol no té un efecte depressor respiratori i no provoca alteracions de personalitat i de l'estat d'ànim, si bé pot influir a l'hora d'assumir riscos en el procés de presa de decisions a nivell individual. De la mateixa manera que els antiinflamatoris no esteroidals (AINE) no es relacionen amb problemes d'addicció, tolerància o la síndrome d'abstinència.\n",
            "Els noms de paracetamol i acetaminofè provenen de la nomenclatura tradicional de la química orgànica N-acetil-para-aminofenol i para-acetil-aminofenol.\n"
          ]
        }
      ]
    },
    {
      "cell_type": "code",
      "source": [
        "# In order to avoid writing so many lines of code, I can also use BeautifulSoup."
      ],
      "metadata": {
        "id": "z496Qo81X72P"
      },
      "execution_count": 59,
      "outputs": []
    },
    {
      "cell_type": "code",
      "source": [
        "soup = BeautifulSoup(urlopen('http://en.wikipedia.org/wiki/Paracetamol'), 'html.parser')\n",
        "\n",
        "id_languages = set([\"en\", \"fr\", \"es\", \"ca\"])\n",
        "links = [(el.get('lang'), el.get('title')) for el in soup.select('li.interlanguage-link > a') if el.get('lang') in id_languages]\n",
        "\n",
        "for language, title in links:\n",
        "    page_title = title.split(u' – ')[0]\n",
        "    wikipedia.set_lang(language)\n",
        "    page = wikipedia.page(page_title)\n",
        "    print(language)\n",
        "    print(page.summary)\n",
        "    print(\"-----\")"
      ],
      "metadata": {
        "colab": {
          "base_uri": "https://localhost:8080/"
        },
        "id": "_Wq7VxeU8g98",
        "outputId": "56fde79d-6d34-4982-8bab-8b097cffce9a"
      },
      "execution_count": 60,
      "outputs": [
        {
          "output_type": "stream",
          "name": "stdout",
          "text": [
            "ca\n",
            "El paracetamol, o acetaminofè és un fàrmac molt utilitzat que té propietats analgèsiques i antipirètiques semblants a les de l'aspirina, però no té activitat antiinflamatòria, ni exerceix cap efecte antiplaquetari. Per tant, la gent al·lèrgica als AINE podrà prendre paracetamol, ja que no té efecte antiinflamatori.El paracetamol pertany a la família dels paraaminofenols. Molts autors inclouen aquest fàrmac com a AINE perquè el seu mecanisme d'acció i els efectes analgèsics i antipirètics són molt semblants a aquests, però normalment no s'inclou en aquest grup, perquè no té gaire efecte antiinflamatori.A diferència dels fàrmacs opioides, el paracetamol no té un efecte depressor respiratori i no provoca alteracions de personalitat i de l'estat d'ànim, si bé pot influir a l'hora d'assumir riscos en el procés de presa de decisions a nivell individual. De la mateixa manera que els antiinflamatoris no esteroidals (AINE) no es relacionen amb problemes d'addicció, tolerància o la síndrome d'abstinència.\n",
            "Els noms de paracetamol i acetaminofè provenen de la nomenclatura tradicional de la química orgànica N-acetil-para-aminofenol i para-acetil-aminofenol.\n",
            "-----\n",
            "es\n",
            "El paracetamol (DCI), también conocido como acetaminofén o acetaminofeno o p-Acetilaminofenol, es un fármaco con propiedades analgésicas y antipiréticas utilizado principalmente para tratar la fiebre y el dolor leve y moderado,[1]​[2]​ aunque su eficacia en el alivio de la fiebre en niños no está clara.[3]​[4]​\n",
            "A menudo se comercializa en medicamentos en los cuales se combina con otros principios activos, como en los antitusígenos,[1]​ o en medicamentos para el alivio del dolor con opiáceos, donde el paracetamol se utiliza para el alivio del dolor muy grave, como el dolor oncológico o tras una operación.[5]​ Por lo general se administra por vía oral aunque también está disponible para su uso por vía rectal o intravenosa,[1]​ por lo que puede presentarse en forma de cápsulas, comprimidos, supositorios o gotas. Sus efectos duran entre dos y cuatro horas.[6]​\n",
            "El paracetamol es normalmente seguro, siempre que se respeten las dosis recomendadas,[7]​ además puede continuar utilizándose en aquellos pacientes con enfermedades hepáticas a dosis bajas[8]​ y es seguro durante el embarazo y la lactancia materna.[1]​ Sin embargo, a dosis elevadas puede provocar insuficiencia hepática,[1]​ alterar la función plaquetaria,[9]​ producir reacciones cutáneas graves o shock anafiláctico (aunque solo en raras ocasiones) y una sobredosis del medicamento puede llegar a acabar con la vida del paciente.[10]​ El paracetamol está clasificado como un analgésico leve[6]​ y no tiene una actividad antiinflamatoria significativa, aunque no se conoce todavía a ciencia cierta como actúa en este ámbito.[11]​\n",
            "El paracetamol fue descubierto en Alemania en 1877[12]​ y es el medicamento más utilizado para el alivio del dolor y la fiebre en Europa y los Estados Unidos.[13]​ Está en el listado de medicamentos esenciales que elabora la Organización Mundial de la Salud, donde se listan todos los fármacos básicos necesarios en cualquier sistema de salud.[14]​ El paracetamol está disponible como medicamento genérico y bajo numerosas marcas comerciales.[15]​ El precio al por mayor en los países en vías de desarrollo es inferior a un centavo de dólar (USD) la dosis,[16]​ mientras que en los países desarrollados su precio es sensiblemente mayor, por ejemplo en Estados Unidos su precio ronda los cuatro centavos por dosis.[17]​\n",
            "-----\n",
            "fr\n",
            "Le paracétamol, aussi appelé acétaminophène, est un composé chimique utilisé comme antalgique (anti-douleur) et antipyrétique (anti-fièvre), qui figure parmi les médicaments les plus communs, utilisés et prescrits au monde.\n",
            "Il est indiqué dans le traitement des douleurs  d'intensité faible à modérée, seul ou en association avec d'autres analgésiques opioïdes. Il est très populaire car il a moins de contre-indications que les autres antalgiques et jouit d'une bonne image auprès du public.\n",
            "Son mécanisme est très complexe ; en effet, il diminue la fièvre, mais pas par le même mécanisme que l'aspirine ou l'ibuprofène, qui agissent sur l'inflammation,.\n",
            "Le paracétamol est le médicament le plus prescrit en France, et même la base des trois médicaments les plus prescrits (noms commerciaux : Doliprane, Dafalgan, Efferalgan), qui totalisent plus de 500 millions de boîtes en 2013.\n",
            "Toutefois, au-delà de 6 g/j, et en cas d'usage au long cours, le paracétamol présente une sévère toxicité pour le foie par production d'un métabolite hépatotoxique, la N-acétyl-p-benzoquinone imine (NAPQI). En cas de surdose ou d'interactions médicamenteuses, le paracétamol est très toxique pour le foie et peut entraîner la mort par hépatite fulminante. C'est pourquoi il est fortement contre-indiqué chez les personnes souffrant d'insuffisance hépatique.\n",
            "La N-acétylcystéïne est un précurseur du glutathion qui diminue la toxicité du paracétamol en inactivant le métabolite toxique du paracétamol NAPQI (N-acétyle-p-benzoquinone imine).\n",
            "Cet antidote est plus efficace s'il est administré dans les huit heures qui suivent l'ingestion de paracétamol. Après 24 heures, le bénéfice de l'antidote est discutable, mais il doit cependant être administré. \n",
            "Si le degré de toxicité est incertain, de la N-acétylcystéïne doit être administrée jusqu'à ce qu'une intoxication soit exclue.\n",
            "Une dose de charge de 150 mg/kg en 200 mL de glucosé à 5 % administrée en 15 min est suivie par des doses d'entretien de 50 mg/kg dans 500 mL de glucosé à 5 % administrés en quatre heures, puis 100 mg/kg dans 1 000 mL de glucosé à 5 % administrés en seize heures. Chez l'enfant, il faut parfois ajuster le dosage pour diminuer le volume total de liquide qui est administré ; une consultation dans un centre antipoison est recommandée.\n",
            "Le nom « paracétamol » vient de la contraction de para-acétyl-amino-phénol. Acétaminophène quant à lui provient de N-acétyl-para-aminophénol. Il est appelé acétaminophène au Canada, aux États-Unis, au Mexique, en Colombie, au Japon, en Corée du Sud, à Hong Kong et en Iran. Dans les autres pays, on emploie le nom « paracétamol ».\n",
            "-----\n"
          ]
        }
      ]
    },
    {
      "cell_type": "code",
      "source": [
        "# I'm interested in Python generating two summaries of the Wikipedia entry, one in Catalan and the other in German."
      ],
      "metadata": {
        "id": "_t6ChB1AY7HV"
      },
      "execution_count": 61,
      "outputs": []
    },
    {
      "cell_type": "code",
      "source": [
        "import urllib.request\n",
        "\n",
        "def cargar_texto(url):\n",
        "    scraped_data = urllib.request.urlopen(url)\n",
        "    article = scraped_data.read()\n",
        "\n",
        "    parsed_article = bs.BeautifulSoup(article,'lxml')\n",
        "\n",
        "    paragraphs = parsed_article.find_all('p')\n",
        "\n",
        "    article_text = \"\"\n",
        "\n",
        "    for p in paragraphs:\n",
        "        article_text += p.text\n",
        "\n",
        "    return article_text\n",
        "\n",
        "def hacer_resumen(article_text):\n",
        "    summary = \"\"\n",
        "    \n",
        "    return summary\n",
        "\n",
        "\n",
        "article_text = cargar_texto('https://de.wikipedia.org/wiki/Paracetamol')\n",
        "resumen = hacer_resumen(article_text)\n",
        "print(resumen)\n",
        "\n",
        "article_textcat = cargar_texto('https://ca.wikipedia.org/wiki/Paracetamol')\n",
        "resumencat = hacer_resumen(article_textcat)\n",
        "print(resumencat)\n",
        "\n"
      ],
      "metadata": {
        "id": "yE_6QQAhL_Z-",
        "colab": {
          "base_uri": "https://localhost:8080/"
        },
        "outputId": "774055d4-455d-4901-e585-7910cf08ee99"
      },
      "execution_count": 62,
      "outputs": [
        {
          "output_type": "stream",
          "name": "stdout",
          "text": [
            "\n",
            "\n"
          ]
        }
      ]
    },
    {
      "cell_type": "code",
      "source": [
        "# In order to avoid strange characters, I apply Regex."
      ],
      "metadata": {
        "id": "lWbAzgudZbKE"
      },
      "execution_count": 63,
      "outputs": []
    },
    {
      "cell_type": "code",
      "source": [
        "article_text = re.sub(r'\\[[0-9]*\\]', ' ', article_text)\n",
        "article_text = re.sub(r'\\s+', ' ', article_text)\n",
        "\n",
        "article_textcat = re.sub(r'\\[[0-9]*\\]', ' ', article_textcat)\n",
        "article_textcat = re.sub(r'\\s+', ' ', article_textcat)"
      ],
      "metadata": {
        "id": "A_y6W-kEMVOj"
      },
      "execution_count": 64,
      "outputs": []
    },
    {
      "cell_type": "code",
      "source": [
        "formatted_article_text = re.sub('[^a-zA-Z]', ' ', article_text )\n",
        "formatted_article_text = re.sub(r'\\s+', ' ', formatted_article_text)\n",
        "\n",
        "formatted_article_textcat = re.sub('[^a-zA-Z]', ' ', article_textcat )\n",
        "formatted_article_textcat = re.sub(r'\\s+', ' ', formatted_article_textcat)"
      ],
      "metadata": {
        "id": "ar6ZuGgaMYri"
      },
      "execution_count": 65,
      "outputs": []
    },
    {
      "cell_type": "code",
      "source": [
        "sentence_list = nltk.sent_tokenize(article_text)\n",
        "sentence_listcat = nltk.sent_tokenize(article_textcat)"
      ],
      "metadata": {
        "id": "ZlslT6IVN2tC"
      },
      "execution_count": 66,
      "outputs": []
    },
    {
      "cell_type": "code",
      "source": [
        "# Both summaries can now be viewed. I use nltk.word_tokenize."
      ],
      "metadata": {
        "id": "Mw61rPaoZljV"
      },
      "execution_count": 67,
      "outputs": []
    },
    {
      "cell_type": "code",
      "source": [
        "from langdetect import detect, detect_langs\n",
        "\n",
        "\n",
        "language_detected = \"\"\n",
        "for sentence in sentence_list:\n",
        "    if (len(nltk.word_tokenize(sentence)) >= 30):\n",
        "        print(\"Sentence:\", sentence)\n",
        "        language_detected = detect(sentence)\n",
        "        break\n",
        "\n",
        "num_sentences = 3\n",
        "if language_detected == \"\":\n",
        "    for pos in range(0, len(sentence_list), num_sentences):\n",
        "        sentence = sentence_list[pos] + \" \" + sentence_list[pos+1] + \" \" + sentence_list[pos+2]\n",
        "        if (len(nltk.word_tokenize(sentence)) >= 30):\n",
        "            print(\"Sentence:\", sentence)\n",
        "            language_detected = detect(sentence)\n",
        "            break\n"
      ],
      "metadata": {
        "colab": {
          "base_uri": "https://localhost:8080/"
        },
        "id": "vaBnh1GVVNHk",
        "outputId": "9b69010a-308e-4352-d415-da3ce0165c1b"
      },
      "execution_count": 68,
      "outputs": [
        {
          "output_type": "stream",
          "name": "stdout",
          "text": [
            "Sentence: weiße, geruchlose, monokline Prismen N02BE01 Hemmung der Cyclooxygenase-2 (COX-2) im Rückenmark 1,29 g·cm−3 (21 °C) 9,38 Achtung 10 mg·m−3 Paracetamol (Kontraktion von para-(Acetylamino)phenol, auch Acetaminophen von para-(Acetylamino)phenol) ist ein schmerzlindernder und fiebersenkender Arzneistoff aus der Gruppe der Nichtopioid-Analgetika.\n"
          ]
        }
      ]
    },
    {
      "cell_type": "code",
      "source": [
        "language_detectedcat = \"\"\n",
        "for sentence in sentence_listcat:\n",
        "    if (len(nltk.word_tokenize(sentence)) >= 30):\n",
        "        print(\"Sentence:\", sentence)\n",
        "        language_detectedcat = detect(sentence)\n",
        "        break\n",
        "\n",
        "num_sentences = 3\n",
        "if language_detectedcat == \"\":\n",
        "    for pos in range(0, len(sentence_listcat), num_sentences):\n",
        "        sentence = sentence_listcat[pos] + \" \" + sentence_listcat[pos+1] + \" \" + sentence_listcat[pos+2]\n",
        "        if (len(nltk.word_tokenize(sentence)) >= 30):\n",
        "            print(\"Sentence:\", sentence)\n",
        "            language_detectedcat = detect(sentence)\n",
        "            break"
      ],
      "metadata": {
        "colab": {
          "base_uri": "https://localhost:8080/"
        },
        "id": "2ellVu5qZpSP",
        "outputId": "f4d1584c-de69-492b-e64f-702ca1cab11e"
      },
      "execution_count": 69,
      "outputs": [
        {
          "output_type": "stream",
          "name": "stdout",
          "text": [
            "Sentence: El paracetamol, o acetaminofè[a] és un fàrmac molt utilitzat que té propietats analgèsiques i antipirètiques semblants a les de l'aspirina, però no té activitat antiinflamatòria, ni exerceix cap efecte antiplaquetari.\n"
          ]
        }
      ]
    },
    {
      "cell_type": "code",
      "source": [
        "# Through the following lines of code, I can find out which languages ​​the program detects."
      ],
      "metadata": {
        "id": "hzt9OgWwZtlP"
      },
      "execution_count": 70,
      "outputs": []
    },
    {
      "cell_type": "code",
      "source": [
        "\n",
        "languages_nltk = ['arabic', 'azerbaijani', 'chinese', 'danish', 'dutch', 'english', 'estonian',\n",
        "    'finnish', 'french', 'galician', 'german', 'greek', 'indonesian',\n",
        "    'italian', 'japanese', 'kazakh', 'nepali', 'norwegian', 'polish', 'portuguese',\n",
        "    'romanian', 'russian', 'slovak', 'slovene', 'spanish', 'swedish',\n",
        "    'tajik', 'tagalog', 'turkish', 'udmurt' ]\n",
        "languages_langdetect = [\"af\", \"ar\", \"bg\", \"bn\", \"ca\", \"cs\", \"cy\", \"da\", \"de\", \"el\", \"en\", \"es\", \"et\", \"fa\", \"fi\", \"fr\", \"gu\",\n",
        "             \"he\", \"hi\", \"hr\", \"hu\", \"id\", \"it\", \"ja\", \"kn\", \"ko\", \"lt\", \"lv\", \"mk\", \"ml\", \"mr\", \"ne\", \"nl\", \"no\",\n",
        "             \"pa\", \"pl\", \"pt\", \"ro\", \"ru\", \"sk\", \"sl\", \"so\", \"sq\", \"sv\", \"sw\", \"ta\", \"te\", \"th\", \"tl\", \"tr\", \"uk\",\n",
        "             \"ur\", \"vi\", \"zh-cn\", \"zh-tw\"]\n",
        "             \n",
        "languages = dict()             \n",
        "languages['en'] = 'english'\n",
        "languages['es'] = 'spanish'\n",
        "languages['ca'] = 'catalan'\n",
        "languages['de'] = 'german'\n",
        "\n",
        "if not languages.get(language_detected, None):\n",
        "    print(\"Idioma\", language_detected, \"no soportado por NLTK\")"
      ],
      "metadata": {
        "id": "xIy5meylWaMG"
      },
      "execution_count": 71,
      "outputs": []
    },
    {
      "cell_type": "code",
      "source": [
        "# The program detects Catalan and German."
      ],
      "metadata": {
        "id": "kxCO4pWzalbR"
      },
      "execution_count": 72,
      "outputs": []
    },
    {
      "cell_type": "code",
      "source": [
        "print(language_detected)\n",
        "print(languages[language_detected])\n",
        "print(language_detectedcat)\n",
        "print(languages[language_detectedcat])"
      ],
      "metadata": {
        "colab": {
          "base_uri": "https://localhost:8080/"
        },
        "id": "yVJxLWfQcXTZ",
        "outputId": "50dc5e51-5719-4163-f8f9-ecf02a9e731d"
      },
      "execution_count": 73,
      "outputs": [
        {
          "output_type": "stream",
          "name": "stdout",
          "text": [
            "de\n",
            "german\n",
            "ca\n",
            "catalan\n"
          ]
        }
      ]
    },
    {
      "cell_type": "code",
      "source": [
        "stopwords = nltk.corpus.stopwords.words(languages[language_detected])\n",
        "\n",
        "word_frequencies = {}\n",
        "for word in nltk.word_tokenize(formatted_article_text):\n",
        "    if word not in stopwords:\n",
        "        if word not in word_frequencies.keys():\n",
        "            word_frequencies[word] = 1\n",
        "        else:\n",
        "            word_frequencies[word] += 1\n",
        "\n",
        "stopwordscat = nltk.corpus.stopwords.words(languages[language_detectedcat])\n",
        "\n",
        "word_frequenciescat = {}\n",
        "for word in nltk.word_tokenize(formatted_article_textcat):\n",
        "    if word not in stopwordscat:\n",
        "        if word not in word_frequenciescat.keys():\n",
        "            word_frequenciescat[word] = 1\n",
        "        else:\n",
        "            word_frequenciescat[word] += 1"
      ],
      "metadata": {
        "id": "plcTEvw0MjVE"
      },
      "execution_count": 74,
      "outputs": []
    },
    {
      "cell_type": "code",
      "source": [
        "maximum_frequency = max(word_frequencies.values())\n",
        "\n",
        "for word in word_frequencies.keys():\n",
        "    word_frequencies[word] = (word_frequencies[word]/maximum_frequency)\n",
        "\n",
        "maximum_frequencycat = max(word_frequenciescat.values())\n",
        "\n",
        "for word in word_frequenciescat.keys():\n",
        "    word_frequenciescat[word] = (word_frequenciescat[word]/maximum_frequencycat)"
      ],
      "metadata": {
        "id": "Ldcimoh2NhKd"
      },
      "execution_count": 75,
      "outputs": []
    },
    {
      "cell_type": "code",
      "source": [
        "sentence_scores = {}\n",
        "for sent in sentence_list:\n",
        "    for word in nltk.word_tokenize(sent.lower()):\n",
        "        if word in word_frequencies.keys():\n",
        "            if len(sent.split(' ')) < 30:\n",
        "                if sent not in sentence_scores.keys():\n",
        "                    sentence_scores[sent] = word_frequencies[word]\n",
        "                else:\n",
        "                    sentence_scores[sent] += word_frequencies[word]\n",
        "\n",
        "sentence_scorescat = {}\n",
        "for sent in sentence_listcat:\n",
        "    for word in nltk.word_tokenize(sent.lower()):\n",
        "        if word in word_frequenciescat.keys():\n",
        "            if len(sent.split(' ')) < 30:\n",
        "                if sent not in sentence_scorescat.keys():\n",
        "                    sentence_scorescat[sent] = word_frequenciescat[word]\n",
        "                else:\n",
        "                    sentence_scorescat[sent] += word_frequenciescat[word]"
      ],
      "metadata": {
        "id": "Ev93axanNkar"
      },
      "execution_count": 76,
      "outputs": []
    },
    {
      "cell_type": "code",
      "source": [
        "# I import heapw beacuse it is implementing priority queues where the queue item with higher weight is given more priority in processing."
      ],
      "metadata": {
        "id": "QgDv7T5lcfAA"
      },
      "execution_count": 77,
      "outputs": []
    },
    {
      "cell_type": "code",
      "source": [
        "import heapq\n",
        "\n",
        "summary_sentences = heapq.nlargest(7, sentence_scores, key=sentence_scores.get)\n",
        "\n",
        "summary = ' '.join(summary_sentences)\n",
        "print(summary)\n",
        "\n",
        "\n",
        "summary_sentencescat = heapq.nlargest(7, sentence_scorescat, key=sentence_scorescat.get)\n",
        "\n",
        "summarycat = ' '.join(summary_sentencescat)\n",
        "print(summarycat)"
      ],
      "metadata": {
        "colab": {
          "base_uri": "https://localhost:8080/"
        },
        "id": "o-xdGomcN9gy",
        "outputId": "c7e55f34-e47f-446e-e902-886a67abdad9"
      },
      "execution_count": 78,
      "outputs": [
        {
          "output_type": "stream",
          "name": "stdout",
          "text": [
            "Dies entspricht bei erwachsenen Menschen (ab 43 kg) einer maximalen Tagesdosis von etwa 4000 mg verteilt auf drei bis vier Einzeldosen. In England und Wales werden etwa 30.000 Patienten pro Jahr mit einer Paracetamolvergiftung als Folge suizidaler Absicht ins Krankenhaus eingeliefert, von denen etwa 150 der Vergiftung erliegen. In einer Studie wurde bei Niereninsuffizienz-vorgeschädigten Patienten bei einer gleichzeitigen Einnahme von Naproxen und Paracetamol (kumulativ 0,4 und 1,0 kg über Jahre) eine Nephropathie beobachtet. Ebenfalls zur Behandlung leichter bis mäßiger Schmerzen ist Paracetamol in fixer Kombination mit Coffein (400 mg Paracetamol, 50 mg Coffein) zugelassen. 1899 wurde das Paracetamol außerdem als Stoffwechselprodukt (Metabolit) des Acetanilids erkannt – diese Entdeckungen blieben jedoch ohne Resonanz, so dass Paracetamol weiterhin keine Anwendung in der Medizin fand. Eine weitere mögliche Erklärung wurde mit der Entdeckung des Cyclooxygenase-Isoenzyms COX-3, einer insbesondere in der Großhirnrinde vorkommenden Variante der COX-1, gefunden. 1893 wurde Paracetamol erstmals im Urin eines Menschen nachgewiesen, der Phenacetin zu sich genommen hatte.\n",
            "El paracetamol és un metabòlit de la fenacetina, un analgèsic molt usat antigament que, per ser tòxic a les dosis terapèutiques i metabolitzades a paracetamol, ja no és utilitzat. Els pacients alcohòlics, amb hepatitis vírica o altres hepatopaties tenen un risc major d'hepatotoxicitat pel paracetamol pel fet que la conjugació del fàrmac pot ser reduïda. Els pacients no han d'automedicar-se amb paracetamol durant més de cinc dies en el cas dels xiquets i durant més de deu dies en els adults. No obstant això, un estudi prospectiu de 48 casos de sobredosi de paracetamol durant l'embaràs no va posar en relleu cap cas de toxicitat fetal directament associada al fàrmac. No es recomana l'ús concomitant de paracetamol i salicilats, per estar augmentat el risc d'una nefropatia analgèsica, incloent necrosi papil·lar i malaltia renal terminal. Igualment pot ser perillós l'ús de paracetamol quan s'administra per a tractament de febre persistent en xiquets amb malnutrició. El paracetamol pot interferir amb els sistemes de detecció de glucosa reduint en un 120 per cent els valors mitjans de la glucosa en sang.\n"
          ]
        }
      ]
    },
    {
      "cell_type": "code",
      "source": [
        "# I apply a new code in order to produce a summary in Catalan and German."
      ],
      "metadata": {
        "id": "3tnDdUmBcriL"
      },
      "execution_count": 79,
      "outputs": []
    },
    {
      "cell_type": "code",
      "source": [
        "import urllib.request\n",
        "import re\n",
        "import nltk\n",
        "from langdetect import detect\n",
        "from nltk.tokenize import word_tokenize, sent_tokenize\n",
        "from nltk.corpus import stopwords\n",
        "from nltk.tokenize import RegexpTokenizer\n",
        "from collections import defaultdict\n",
        "from heapq import nlargest\n",
        "from bs4 import BeautifulSoup\n",
        "from itertools import chain\n",
        "\n",
        "\n",
        "def cargar_texto(url):\n",
        "    scraped_data = urllib.request.urlopen(url)\n",
        "    article = scraped_data.read()\n",
        "\n",
        "    parsed_article = BeautifulSoup(article, 'lxml')\n",
        "\n",
        "    paragraphs = parsed_article.find_all('p')\n",
        "\n",
        "    article_text = \"\"\n",
        "\n",
        "    for p in paragraphs:\n",
        "        article_text += p.text\n",
        "\n",
        "    return article_text\n",
        "\n",
        "\n",
        "def hacer_resumen(article_text):\n",
        "    formatted_article_text = re.sub('[^a-zA-Z]', ' ', article_text)\n",
        "    formatted_article_text = re.sub(r'\\s+', ' ', formatted_article_text)\n",
        "\n",
        "    tokenizer = RegexpTokenizer(r'\\w+')\n",
        "    tokens = tokenizer.tokenize(formatted_article_text)\n",
        "\n",
        "    stop_words = set(stopwords.words('german') + stopwords.words('catalan'))\n",
        "\n",
        "    word_frequencies = defaultdict(int)\n",
        "    for word in tokens:\n",
        "        if word.lower() not in stop_words:\n",
        "            word_frequencies[word.lower()] += 1\n",
        "\n",
        "    maximum_frequency = max(word_frequencies.values())\n",
        "\n",
        "    for word in word_frequencies.keys():\n",
        "        word_frequencies[word] = word_frequencies[word] / maximum_frequency\n",
        "\n",
        "    sentence_list = sent_tokenize(article_text)\n",
        "\n",
        "    sentence_scores = defaultdict(int)\n",
        "\n",
        "    for sent in sentence_list:\n",
        "        for word in word_tokenize(sent.lower()):\n",
        "            if word in word_frequencies.keys():\n",
        "                if len(sent.split(' ')) < 30:\n",
        "                    sentence_scores[sent] += word_frequencies[word]\n",
        "\n",
        "    summary_sentences = nlargest(5, sentence_scores, key=sentence_scores.get)\n",
        "    summary = ' '.join(summary_sentences)\n",
        "    \n",
        "    return summary\n",
        "\n",
        "\n",
        "article_text = cargar_texto('https://de.wikipedia.org/wiki/Paracetamol')\n",
        "resumen = hacer_resumen(article_text)\n",
        "print(resumen)\n",
        "\n",
        "article_textcat = cargar_texto('https://ca.wikipedia.org/wiki/Paracetamol')\n",
        "resumencat = hacer_resumen(article_textcat)\n",
        "print(resumencat)\n",
        "\n"
      ],
      "metadata": {
        "colab": {
          "base_uri": "https://localhost:8080/"
        },
        "id": "7enhFDpHAALS",
        "outputId": "4f38202b-790c-458e-ab14-c7474cfbdd6c"
      },
      "execution_count": 80,
      "outputs": [
        {
          "output_type": "stream",
          "name": "stdout",
          "text": [
            "[17][18]\n",
            "Ebenfalls zur Behandlung leichter bis mäßiger Schmerzen ist Paracetamol in fixer Kombination mit Coffein (400 mg Paracetamol, 50 mg Coffein) zugelassen. 1899 wurde das Paracetamol außerdem als Stoffwechselprodukt (Metabolit) des Acetanilids erkannt – diese Entdeckungen blieben jedoch ohne Resonanz, so dass Paracetamol weiterhin keine Anwendung in der Medizin fand. [31][32]\n",
            "Wenngleich Paracetamol in geringen Mengen in die Muttermilch übergeht, sind bei Einnahme von Paracetamol während der Stillzeit keine unerwünschten Wirkungen für den Säugling bekannt geworden. Präparate mit Paracetamol zählen weltweit zu den gebräuchlichsten Schmerzmitteln neben jenen, die Acetylsalicylsäure, Ibuprofen, oder Diclofenac enthalten, Paracetamol wirkt aber im Gegensatz zu diesen quasi nicht entzündungshemmend. Bei einer bekannten Überempfindlichkeit gegen Paracetamol oder bei einer schweren Beeinträchtigung der Leberfunktion auf Grund eines Leberversagens mit einem Child-Pugh-Score von 9 oder höher darf Paracetamol nicht angewendet werden.\n",
            "[25]\n",
            "El paracetamol és un metabòlit de la fenacetina, un analgèsic molt usat antigament que, per ser tòxic a les dosis terapèutiques i metabolitzades a paracetamol, ja no és utilitzat. Els pacients alcohòlics, amb hepatitis vírica o altres hepatopaties tenen un risc major d'hepatotoxicitat pel paracetamol pel fet que la conjugació del fàrmac pot ser reduïda. No obstant això, un estudi prospectiu de 48 casos de sobredosi de paracetamol durant l'embaràs no va posar en relleu cap cas de toxicitat fetal directament associada al fàrmac. [74] No es recomana l'ús concomitant de paracetamol i salicilats, per estar augmentat el risc d'una nefropatia analgèsica,[75] incloent necrosi papil·lar i malaltia renal terminal. [64] Igualment pot ser perillós l'ús de paracetamol quan s'administra per a tractament de febre persistent en xiquets amb malnutrició.\n"
          ]
        }
      ]
    },
    {
      "cell_type": "code",
      "source": [
        "# In these lines of code, you can see the differences between the summary in Catalan and French."
      ],
      "metadata": {
        "id": "CS9duktBbNo2"
      },
      "execution_count": 81,
      "outputs": []
    },
    {
      "cell_type": "code",
      "source": [
        "from urllib.request import urlopen\n",
        "from bs4 import BeautifulSoup\n",
        "import wikipedia\n",
        "\n",
        "soup = BeautifulSoup(urlopen('http://en.wikipedia.org/wiki/Paracetamol'), 'html.parser')\n",
        "links = [(el.get('lang'), el.get('title')) for el in soup.select('li.interlanguage-link > a')]\n",
        "\n",
        "for language, title in links:\n",
        "    if language in ['ca', 'fr']:\n",
        "        page_title = title.split(u' – ')[0]\n",
        "        wikipedia.set_lang(language)\n",
        "        page = wikipedia.page(page_title)\n",
        "        print(language)\n",
        "        print(page.summary)\n",
        "        print(\"-----\")"
      ],
      "metadata": {
        "colab": {
          "base_uri": "https://localhost:8080/"
        },
        "id": "C8R6HxP48XB1",
        "outputId": "b091b1a9-7015-4bd1-b182-4c3f0c475ab1"
      },
      "execution_count": 82,
      "outputs": [
        {
          "output_type": "stream",
          "name": "stdout",
          "text": [
            "ca\n",
            "El paracetamol, o acetaminofè és un fàrmac molt utilitzat que té propietats analgèsiques i antipirètiques semblants a les de l'aspirina, però no té activitat antiinflamatòria, ni exerceix cap efecte antiplaquetari. Per tant, la gent al·lèrgica als AINE podrà prendre paracetamol, ja que no té efecte antiinflamatori.El paracetamol pertany a la família dels paraaminofenols. Molts autors inclouen aquest fàrmac com a AINE perquè el seu mecanisme d'acció i els efectes analgèsics i antipirètics són molt semblants a aquests, però normalment no s'inclou en aquest grup, perquè no té gaire efecte antiinflamatori.A diferència dels fàrmacs opioides, el paracetamol no té un efecte depressor respiratori i no provoca alteracions de personalitat i de l'estat d'ànim, si bé pot influir a l'hora d'assumir riscos en el procés de presa de decisions a nivell individual. De la mateixa manera que els antiinflamatoris no esteroidals (AINE) no es relacionen amb problemes d'addicció, tolerància o la síndrome d'abstinència.\n",
            "Els noms de paracetamol i acetaminofè provenen de la nomenclatura tradicional de la química orgànica N-acetil-para-aminofenol i para-acetil-aminofenol.\n",
            "-----\n",
            "fr\n",
            "Le paracétamol, aussi appelé acétaminophène, est un composé chimique utilisé comme antalgique (anti-douleur) et antipyrétique (anti-fièvre), qui figure parmi les médicaments les plus communs, utilisés et prescrits au monde.\n",
            "Il est indiqué dans le traitement des douleurs  d'intensité faible à modérée, seul ou en association avec d'autres analgésiques opioïdes. Il est très populaire car il a moins de contre-indications que les autres antalgiques et jouit d'une bonne image auprès du public.\n",
            "Son mécanisme est très complexe ; en effet, il diminue la fièvre, mais pas par le même mécanisme que l'aspirine ou l'ibuprofène, qui agissent sur l'inflammation,.\n",
            "Le paracétamol est le médicament le plus prescrit en France, et même la base des trois médicaments les plus prescrits (noms commerciaux : Doliprane, Dafalgan, Efferalgan), qui totalisent plus de 500 millions de boîtes en 2013.\n",
            "Toutefois, au-delà de 6 g/j, et en cas d'usage au long cours, le paracétamol présente une sévère toxicité pour le foie par production d'un métabolite hépatotoxique, la N-acétyl-p-benzoquinone imine (NAPQI). En cas de surdose ou d'interactions médicamenteuses, le paracétamol est très toxique pour le foie et peut entraîner la mort par hépatite fulminante. C'est pourquoi il est fortement contre-indiqué chez les personnes souffrant d'insuffisance hépatique.\n",
            "La N-acétylcystéïne est un précurseur du glutathion qui diminue la toxicité du paracétamol en inactivant le métabolite toxique du paracétamol NAPQI (N-acétyle-p-benzoquinone imine).\n",
            "Cet antidote est plus efficace s'il est administré dans les huit heures qui suivent l'ingestion de paracétamol. Après 24 heures, le bénéfice de l'antidote est discutable, mais il doit cependant être administré. \n",
            "Si le degré de toxicité est incertain, de la N-acétylcystéïne doit être administrée jusqu'à ce qu'une intoxication soit exclue.\n",
            "Une dose de charge de 150 mg/kg en 200 mL de glucosé à 5 % administrée en 15 min est suivie par des doses d'entretien de 50 mg/kg dans 500 mL de glucosé à 5 % administrés en quatre heures, puis 100 mg/kg dans 1 000 mL de glucosé à 5 % administrés en seize heures. Chez l'enfant, il faut parfois ajuster le dosage pour diminuer le volume total de liquide qui est administré ; une consultation dans un centre antipoison est recommandée.\n",
            "Le nom « paracétamol » vient de la contraction de para-acétyl-amino-phénol. Acétaminophène quant à lui provient de N-acétyl-para-aminophénol. Il est appelé acétaminophène au Canada, aux États-Unis, au Mexique, en Colombie, au Japon, en Corée du Sud, à Hong Kong et en Iran. Dans les autres pays, on emploie le nom « paracétamol ».\n",
            "-----\n"
          ]
        }
      ]
    }
  ]
}